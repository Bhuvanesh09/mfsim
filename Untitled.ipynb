{
 "cells": [
  {
   "cell_type": "code",
   "execution_count": 1,
   "id": "58b47513",
   "metadata": {},
   "outputs": [],
   "source": [
    "from mfsim.utils.data_loader import DataLoader\n",
    "from mfsim.backtester.simulator import Simulator"
   ]
  },
  {
   "cell_type": "code",
   "execution_count": 2,
   "id": "3ac90e5b-87a1-41dd-8ed3-29a2a8c6787d",
   "metadata": {},
   "outputs": [],
   "source": [
    "from mfsim.strategies.custom_strategy import MomentumValueStrategy"
   ]
  },
  {
   "cell_type": "code",
   "execution_count": 3,
   "id": "c3006b2b-db3a-49a5-bc94-a47c389b2512",
   "metadata": {},
   "outputs": [],
   "source": [
    "dl = DataLoader()"
   ]
  },
  {
   "cell_type": "code",
   "execution_count": 4,
   "id": "31ef6ee4-f05a-4d56-8ba3-c9b6196dba7d",
   "metadata": {
    "scrolled": true
   },
   "outputs": [
    {
     "name": "stderr",
     "output_type": "stream",
     "text": [
      "2024-09-30 22:33:44,495 - backtester - INFO - Purchased 384.68936333910364 units of NIPPON INDIA NIFTY 50 VALUE 20 INDEX FUND - DIRECT Plan - IDCW Option on 2023-01-02 for 5000.0\n",
      "2024-09-30 22:33:44,500 - backtester - INFO - Purchased 499.88002879308965 units of BANDHAN NIFTY200 MOMENTUM 30 INDEX FUND - GROWTH - DIRECT PLAN on 2023-01-02 for 5000.0\n",
      "2024-09-30 22:33:44,502 - backtester - INFO - Purchased 37.43383569540837 units of NIPPON INDIA NIFTY 50 VALUE 20 INDEX FUND - DIRECT Plan - IDCW Option on 2023-02-01 for 500.0\n",
      "2024-09-30 22:33:44,506 - backtester - INFO - Purchased 54.0698366009538 units of BANDHAN NIFTY200 MOMENTUM 30 INDEX FUND - GROWTH - DIRECT PLAN on 2023-02-01 for 500.0\n",
      "2024-09-30 22:33:44,507 - backtester - INFO - Applied SIP of 1000 on 2023-02-01\n",
      "2024-09-30 22:33:44,508 - backtester - INFO - Purchased 37.837796932111424 units of NIPPON INDIA NIFTY 50 VALUE 20 INDEX FUND - DIRECT Plan - IDCW Option on 2023-03-01 for 500.0\n",
      "2024-09-30 22:33:44,509 - backtester - INFO - Purchased 53.428507314362655 units of BANDHAN NIFTY200 MOMENTUM 30 INDEX FUND - GROWTH - DIRECT PLAN on 2023-03-01 for 500.0\n",
      "2024-09-30 22:33:44,509 - backtester - INFO - Applied SIP of 1000 on 2023-03-01\n",
      "2024-09-30 22:33:44,511 - backtester - INFO - Purchased 36.55665550470118 units of NIPPON INDIA NIFTY 50 VALUE 20 INDEX FUND - DIRECT Plan - IDCW Option on 2023-06-01 for 500.0\n",
      "2024-09-30 22:33:44,523 - backtester - INFO - Purchased 47.75731642087568 units of BANDHAN NIFTY200 MOMENTUM 30 INDEX FUND - GROWTH - DIRECT PLAN on 2023-06-01 for 500.0\n",
      "2024-09-30 22:33:44,526 - backtester - INFO - Applied SIP of 1000 on 2023-06-01\n",
      "2024-09-30 22:33:44,530 - backtester - INFO - Purchased 34.44427605020598 units of NIPPON INDIA NIFTY 50 VALUE 20 INDEX FUND - DIRECT Plan - IDCW Option on 2023-08-01 for 500.0\n",
      "2024-09-30 22:33:44,538 - backtester - INFO - Purchased 44.110381819465026 units of BANDHAN NIFTY200 MOMENTUM 30 INDEX FUND - GROWTH - DIRECT PLAN on 2023-08-01 for 500.0\n",
      "2024-09-30 22:33:44,553 - backtester - INFO - Applied SIP of 1000 on 2023-08-01\n",
      "2024-09-30 22:33:44,558 - backtester - INFO - Purchased 34.42862257966783 units of NIPPON INDIA NIFTY 50 VALUE 20 INDEX FUND - DIRECT Plan - IDCW Option on 2023-09-01 for 500.0\n",
      "2024-09-30 22:33:44,559 - backtester - INFO - Purchased 43.694071588366896 units of BANDHAN NIFTY200 MOMENTUM 30 INDEX FUND - GROWTH - DIRECT PLAN on 2023-09-01 for 500.0\n",
      "2024-09-30 22:33:44,559 - backtester - INFO - Applied SIP of 1000 on 2023-09-01\n",
      "2024-09-30 22:33:44,560 - backtester - INFO - Purchased 34.78890094904121 units of NIPPON INDIA NIFTY 50 VALUE 20 INDEX FUND - DIRECT Plan - IDCW Option on 2023-11-01 for 500.0\n",
      "2024-09-30 22:33:44,561 - backtester - INFO - Purchased 43.85003288752467 units of BANDHAN NIFTY200 MOMENTUM 30 INDEX FUND - GROWTH - DIRECT PLAN on 2023-11-01 for 500.0\n",
      "2024-09-30 22:33:44,561 - backtester - INFO - Applied SIP of 1000 on 2023-11-01\n",
      "2024-09-30 22:33:44,562 - backtester - INFO - Purchased 32.123353678124 units of NIPPON INDIA NIFTY 50 VALUE 20 INDEX FUND - DIRECT Plan - IDCW Option on 2023-12-01 for 500.0\n",
      "2024-09-30 22:33:44,563 - backtester - INFO - Purchased 38.09610886344068 units of BANDHAN NIFTY200 MOMENTUM 30 INDEX FUND - GROWTH - DIRECT PLAN on 2023-12-01 for 500.0\n",
      "2024-09-30 22:33:44,563 - backtester - INFO - Applied SIP of 1000 on 2023-12-01\n",
      "2024-09-30 22:33:44,564 - backtester - INFO - Purchased 29.838098477660214 units of NIPPON INDIA NIFTY 50 VALUE 20 INDEX FUND - DIRECT Plan - IDCW Option on 2024-01-01 for 500.0\n",
      "2024-09-30 22:33:44,564 - backtester - INFO - Purchased 35.67758876584085 units of BANDHAN NIFTY200 MOMENTUM 30 INDEX FUND - GROWTH - DIRECT PLAN on 2024-01-01 for 500.0\n",
      "2024-09-30 22:33:44,564 - backtester - INFO - Applied SIP of 1000 on 2024-01-01\n",
      "2024-09-30 22:33:44,565 - backtester - INFO - Rebalancing on 2024-01-01\n",
      "2024-09-30 22:33:44,567 - backtester - INFO - Purchased -66.21409032060238 units of NIPPON INDIA NIFTY 50 VALUE 20 INDEX FUND - DIRECT Plan - IDCW Option on 2024-01-01 for -1109.5561329113661\n",
      "2024-09-30 22:33:44,569 - backtester - INFO - Purchased 79.17257484525675 units of BANDHAN NIFTY200 MOMENTUM 30 INDEX FUND - GROWTH - DIRECT PLAN on 2024-01-01 for 1109.5561329113661\n",
      "2024-09-30 22:33:44,572 - backtester - INFO - TotalReturn: 0.2864359817578066\n",
      "/Users/bhuvanesh.sridharan/Files/Exp/mfsim/mfsim/metrics/metrics_collection.py:120: FutureWarning: Downcasting object dtype arrays on .fillna, .ffill, .bfill is deprecated and will change in a future version. Call result.infer_objects(copy=False) instead. To opt-in to the future behavior, set `pd.set_option('future.no_silent_downcasting', True)`\n",
      "  holdings_df = pd.DataFrame(index=all_dates, columns=nav_data.keys()).fillna(0.0)\n",
      "2024-09-30 22:33:44,583 - backtester - INFO - SharpeRatio: nan\n"
     ]
    },
    {
     "name": "stdout",
     "output_type": "stream",
     "text": [
      "Series([], Freq: D, dtype: float64)\n"
     ]
    }
   ],
   "source": [
    "# Define strategy\n",
    "strategy = MomentumValueStrategy(\n",
    "    frequency='semi-annually',\n",
    "    metrics=['Total Return', 'sharpe ratio'],\n",
    "    value_fund=\"NIPPON INDIA NIFTY 50 VALUE 20 INDEX FUND - DIRECT Plan - IDCW Option\",\n",
    "    momentum_fund=\"BANDHAN NIFTY200 MOMENTUM 30 INDEX FUND - GROWTH - DIRECT PLAN\"\n",
    ")\n",
    "\n",
    "# Initialize simulator\n",
    "sim = Simulator(\n",
    "    start_date='2023-01-01',\n",
    "    end_date='2024-01-01',\n",
    "    initial_investment=10000,\n",
    "    strategy=strategy,\n",
    "    sip_amount=1000,\n",
    "    sip_frequency='monthly',\n",
    ")\n",
    "\n",
    "# Run simulation\n",
    "metrics = sim.run()"
   ]
  },
  {
   "cell_type": "code",
   "execution_count": 5,
   "id": "5f793155-7f93-42fb-baad-9c6742b04120",
   "metadata": {},
   "outputs": [
    {
     "data": {
      "text/plain": [
       "DatetimeIndex(['2023-01-02', '2023-01-02', '2023-02-01', '2023-02-01',\n",
       "               '2023-03-01', '2023-03-01', '2023-06-01', '2023-06-01',\n",
       "               '2023-08-01', '2023-08-01', '2023-09-01', '2023-09-01',\n",
       "               '2023-11-01', '2023-11-01', '2023-12-01', '2023-12-01',\n",
       "               '2024-01-01', '2024-01-01', '2024-01-01', '2024-01-01'],\n",
       "              dtype='datetime64[ns]', name='date', freq=None)"
      ]
     },
     "execution_count": 5,
     "metadata": {},
     "output_type": "execute_result"
    }
   ],
   "source": [
    "sim.portfolio_history_df.index"
   ]
  },
  {
   "cell_type": "code",
   "execution_count": null,
   "id": "cfa6d9ee-418c-4c7e-bfab-0d23ce3231ab",
   "metadata": {},
   "outputs": [],
   "source": []
  },
  {
   "cell_type": "code",
   "execution_count": 10,
   "id": "ef5989be-1358-4fdf-ae17-cc29e410279d",
   "metadata": {},
   "outputs": [
    {
     "data": {
      "text/plain": [
       "{'BANDHAN NIFTY200 MOMENTUM 30 INDEX FUND - GROWTH - DIRECT PLAN': 939.7364478991767,\n",
       " 'NIPPON INDIA NIFTY 50 VALUE 20 INDEX FUND - DIRECT Plan - IDCW Option': 595.9268128854214}"
      ]
     },
     "execution_count": 10,
     "metadata": {},
     "output_type": "execute_result"
    }
   ],
   "source": [
    "sim.current_portfolio"
   ]
  },
  {
   "cell_type": "code",
   "execution_count": 5,
   "id": "e209d3a1-334d-421d-ae61-c585d9021ac5",
   "metadata": {},
   "outputs": [
    {
     "data": {
      "text/plain": [
       "[{'fund_name': 'NIPPON INDIA NIFTY 50 VALUE 20 INDEX FUND - DIRECT Plan - IDCW Option',\n",
       "  'date': Timestamp('2023-01-02 00:00:00'),\n",
       "  'units': 384.68936333910364,\n",
       "  'amount': 5000.0},\n",
       " {'fund_name': 'BANDHAN NIFTY200 MOMENTUM 30 INDEX FUND - GROWTH - DIRECT PLAN',\n",
       "  'date': Timestamp('2023-01-02 00:00:00'),\n",
       "  'units': 499.88002879308965,\n",
       "  'amount': 5000.0},\n",
       " {'fund_name': 'NIPPON INDIA NIFTY 50 VALUE 20 INDEX FUND - DIRECT Plan - IDCW Option',\n",
       "  'date': Timestamp('2023-02-01 00:00:00'),\n",
       "  'units': 37.43383569540837,\n",
       "  'amount': 500.0},\n",
       " {'fund_name': 'BANDHAN NIFTY200 MOMENTUM 30 INDEX FUND - GROWTH - DIRECT PLAN',\n",
       "  'date': Timestamp('2023-02-01 00:00:00'),\n",
       "  'units': 54.0698366009538,\n",
       "  'amount': 500.0},\n",
       " {'fund_name': 'NIPPON INDIA NIFTY 50 VALUE 20 INDEX FUND - DIRECT Plan - IDCW Option',\n",
       "  'date': Timestamp('2023-03-01 00:00:00'),\n",
       "  'units': 37.837796932111424,\n",
       "  'amount': 500.0},\n",
       " {'fund_name': 'BANDHAN NIFTY200 MOMENTUM 30 INDEX FUND - GROWTH - DIRECT PLAN',\n",
       "  'date': Timestamp('2023-03-01 00:00:00'),\n",
       "  'units': 53.428507314362655,\n",
       "  'amount': 500.0},\n",
       " {'fund_name': 'NIPPON INDIA NIFTY 50 VALUE 20 INDEX FUND - DIRECT Plan - IDCW Option',\n",
       "  'date': Timestamp('2023-06-01 00:00:00'),\n",
       "  'units': 36.55665550470118,\n",
       "  'amount': 500.0},\n",
       " {'fund_name': 'BANDHAN NIFTY200 MOMENTUM 30 INDEX FUND - GROWTH - DIRECT PLAN',\n",
       "  'date': Timestamp('2023-06-01 00:00:00'),\n",
       "  'units': 47.75731642087568,\n",
       "  'amount': 500.0},\n",
       " {'fund_name': 'NIPPON INDIA NIFTY 50 VALUE 20 INDEX FUND - DIRECT Plan - IDCW Option',\n",
       "  'date': Timestamp('2023-08-01 00:00:00'),\n",
       "  'units': 34.44427605020598,\n",
       "  'amount': 500.0},\n",
       " {'fund_name': 'BANDHAN NIFTY200 MOMENTUM 30 INDEX FUND - GROWTH - DIRECT PLAN',\n",
       "  'date': Timestamp('2023-08-01 00:00:00'),\n",
       "  'units': 44.110381819465026,\n",
       "  'amount': 500.0},\n",
       " {'fund_name': 'NIPPON INDIA NIFTY 50 VALUE 20 INDEX FUND - DIRECT Plan - IDCW Option',\n",
       "  'date': Timestamp('2023-09-01 00:00:00'),\n",
       "  'units': 34.42862257966783,\n",
       "  'amount': 500.0},\n",
       " {'fund_name': 'BANDHAN NIFTY200 MOMENTUM 30 INDEX FUND - GROWTH - DIRECT PLAN',\n",
       "  'date': Timestamp('2023-09-01 00:00:00'),\n",
       "  'units': 43.694071588366896,\n",
       "  'amount': 500.0},\n",
       " {'fund_name': 'NIPPON INDIA NIFTY 50 VALUE 20 INDEX FUND - DIRECT Plan - IDCW Option',\n",
       "  'date': Timestamp('2023-11-01 00:00:00'),\n",
       "  'units': 34.78890094904121,\n",
       "  'amount': 500.0},\n",
       " {'fund_name': 'BANDHAN NIFTY200 MOMENTUM 30 INDEX FUND - GROWTH - DIRECT PLAN',\n",
       "  'date': Timestamp('2023-11-01 00:00:00'),\n",
       "  'units': 43.85003288752467,\n",
       "  'amount': 500.0},\n",
       " {'fund_name': 'NIPPON INDIA NIFTY 50 VALUE 20 INDEX FUND - DIRECT Plan - IDCW Option',\n",
       "  'date': Timestamp('2023-12-01 00:00:00'),\n",
       "  'units': 32.123353678124,\n",
       "  'amount': 500.0},\n",
       " {'fund_name': 'BANDHAN NIFTY200 MOMENTUM 30 INDEX FUND - GROWTH - DIRECT PLAN',\n",
       "  'date': Timestamp('2023-12-01 00:00:00'),\n",
       "  'units': 38.09610886344068,\n",
       "  'amount': 500.0},\n",
       " {'fund_name': 'NIPPON INDIA NIFTY 50 VALUE 20 INDEX FUND - DIRECT Plan - IDCW Option',\n",
       "  'date': Timestamp('2024-01-01 00:00:00'),\n",
       "  'units': 29.838098477660214,\n",
       "  'amount': 500.0},\n",
       " {'fund_name': 'BANDHAN NIFTY200 MOMENTUM 30 INDEX FUND - GROWTH - DIRECT PLAN',\n",
       "  'date': Timestamp('2024-01-01 00:00:00'),\n",
       "  'units': 35.67758876584085,\n",
       "  'amount': 500.0},\n",
       " {'fund_name': 'NIPPON INDIA NIFTY 50 VALUE 20 INDEX FUND - DIRECT Plan - IDCW Option',\n",
       "  'date': Timestamp('2024-01-01 00:00:00'),\n",
       "  'units': -66.21409032060238,\n",
       "  'amount': np.float64(-1109.5561329113661)},\n",
       " {'fund_name': 'BANDHAN NIFTY200 MOMENTUM 30 INDEX FUND - GROWTH - DIRECT PLAN',\n",
       "  'date': Timestamp('2024-01-01 00:00:00'),\n",
       "  'units': 79.17257484525675,\n",
       "  'amount': np.float64(1109.5561329113661)},\n",
       " {'fund_name': 'NIPPON INDIA NIFTY 50 VALUE 20 INDEX FUND - DIRECT Plan - IDCW Option',\n",
       "  'date': Timestamp('2024-02-01 00:00:00'),\n",
       "  'units': 29.05709719599012,\n",
       "  'amount': 500.0},\n",
       " {'fund_name': 'BANDHAN NIFTY200 MOMENTUM 30 INDEX FUND - GROWTH - DIRECT PLAN',\n",
       "  'date': Timestamp('2024-02-01 00:00:00'),\n",
       "  'units': 33.94133579521156,\n",
       "  'amount': 500.0},\n",
       " {'fund_name': 'NIPPON INDIA NIFTY 50 VALUE 20 INDEX FUND - DIRECT Plan - IDCW Option',\n",
       "  'date': Timestamp('2024-03-01 00:00:00'),\n",
       "  'units': 27.89851635690014,\n",
       "  'amount': 500.0},\n",
       " {'fund_name': 'BANDHAN NIFTY200 MOMENTUM 30 INDEX FUND - GROWTH - DIRECT PLAN',\n",
       "  'date': Timestamp('2024-03-01 00:00:00'),\n",
       "  'units': 32.05765248222403,\n",
       "  'amount': 500.0},\n",
       " {'fund_name': 'NIPPON INDIA NIFTY 50 VALUE 20 INDEX FUND - DIRECT Plan - IDCW Option',\n",
       "  'date': Timestamp('2024-04-01 00:00:00'),\n",
       "  'units': 28.239334003546862,\n",
       "  'amount': 500.0},\n",
       " {'fund_name': 'BANDHAN NIFTY200 MOMENTUM 30 INDEX FUND - GROWTH - DIRECT PLAN',\n",
       "  'date': Timestamp('2024-04-01 00:00:00'),\n",
       "  'units': 31.285978875707062,\n",
       "  'amount': 500.0}]"
      ]
     },
     "execution_count": 5,
     "metadata": {},
     "output_type": "execute_result"
    }
   ],
   "source": [
    "sim.portfolio_history"
   ]
  },
  {
   "cell_type": "code",
   "execution_count": 6,
   "id": "625dc8d5-9ebd-42e5-9820-e72b6778bdc8",
   "metadata": {},
   "outputs": [
    {
     "data": {
      "text/plain": [
       "{'BANDHAN NIFTY200 MOMENTUM 30 INDEX FUND - GROWTH - DIRECT PLAN': 1037.0214150523193,\n",
       " 'NIPPON INDIA NIFTY 50 VALUE 20 INDEX FUND - DIRECT Plan - IDCW Option': 681.1217604418586}"
      ]
     },
     "execution_count": 6,
     "metadata": {},
     "output_type": "execute_result"
    }
   ],
   "source": [
    "sim.current_portfolio"
   ]
  },
  {
   "cell_type": "code",
   "execution_count": 7,
   "id": "55714f37-b210-4fb2-bed4-24bdec429623",
   "metadata": {},
   "outputs": [],
   "source": [
    "import pandas as pd"
   ]
  },
  {
   "cell_type": "code",
   "execution_count": 9,
   "id": "2cb98f44-9961-4f55-9af8-46e938366978",
   "metadata": {},
   "outputs": [],
   "source": [
    "df = pd.DataFrame.from_records(sim.portfolio_history, index=\"date\")\n"
   ]
  },
  {
   "cell_type": "code",
   "execution_count": 10,
   "id": "5c4320ac-bc7b-4f20-8b61-416d60ec4fcd",
   "metadata": {},
   "outputs": [
    {
     "data": {
      "text/html": [
       "<div>\n",
       "<style scoped>\n",
       "    .dataframe tbody tr th:only-of-type {\n",
       "        vertical-align: middle;\n",
       "    }\n",
       "\n",
       "    .dataframe tbody tr th {\n",
       "        vertical-align: top;\n",
       "    }\n",
       "\n",
       "    .dataframe thead th {\n",
       "        text-align: right;\n",
       "    }\n",
       "</style>\n",
       "<table border=\"1\" class=\"dataframe\">\n",
       "  <thead>\n",
       "    <tr style=\"text-align: right;\">\n",
       "      <th></th>\n",
       "      <th>fund_name</th>\n",
       "      <th>units</th>\n",
       "      <th>amount</th>\n",
       "    </tr>\n",
       "    <tr>\n",
       "      <th>date</th>\n",
       "      <th></th>\n",
       "      <th></th>\n",
       "      <th></th>\n",
       "    </tr>\n",
       "  </thead>\n",
       "  <tbody>\n",
       "    <tr>\n",
       "      <th>2023-01-02</th>\n",
       "      <td>NIPPON INDIA NIFTY 50 VALUE 20 INDEX FUND - DI...</td>\n",
       "      <td>384.689363</td>\n",
       "      <td>5000.0</td>\n",
       "    </tr>\n",
       "    <tr>\n",
       "      <th>2023-01-02</th>\n",
       "      <td>BANDHAN NIFTY200 MOMENTUM 30 INDEX FUND - GROW...</td>\n",
       "      <td>499.880029</td>\n",
       "      <td>5000.0</td>\n",
       "    </tr>\n",
       "    <tr>\n",
       "      <th>2023-02-01</th>\n",
       "      <td>NIPPON INDIA NIFTY 50 VALUE 20 INDEX FUND - DI...</td>\n",
       "      <td>37.433836</td>\n",
       "      <td>500.0</td>\n",
       "    </tr>\n",
       "    <tr>\n",
       "      <th>2023-02-01</th>\n",
       "      <td>BANDHAN NIFTY200 MOMENTUM 30 INDEX FUND - GROW...</td>\n",
       "      <td>54.069837</td>\n",
       "      <td>500.0</td>\n",
       "    </tr>\n",
       "    <tr>\n",
       "      <th>2023-03-01</th>\n",
       "      <td>NIPPON INDIA NIFTY 50 VALUE 20 INDEX FUND - DI...</td>\n",
       "      <td>37.837797</td>\n",
       "      <td>500.0</td>\n",
       "    </tr>\n",
       "    <tr>\n",
       "      <th>2023-03-01</th>\n",
       "      <td>BANDHAN NIFTY200 MOMENTUM 30 INDEX FUND - GROW...</td>\n",
       "      <td>53.428507</td>\n",
       "      <td>500.0</td>\n",
       "    </tr>\n",
       "    <tr>\n",
       "      <th>2023-06-01</th>\n",
       "      <td>NIPPON INDIA NIFTY 50 VALUE 20 INDEX FUND - DI...</td>\n",
       "      <td>36.556656</td>\n",
       "      <td>500.0</td>\n",
       "    </tr>\n",
       "    <tr>\n",
       "      <th>2023-06-01</th>\n",
       "      <td>BANDHAN NIFTY200 MOMENTUM 30 INDEX FUND - GROW...</td>\n",
       "      <td>47.757316</td>\n",
       "      <td>500.0</td>\n",
       "    </tr>\n",
       "    <tr>\n",
       "      <th>2023-08-01</th>\n",
       "      <td>NIPPON INDIA NIFTY 50 VALUE 20 INDEX FUND - DI...</td>\n",
       "      <td>34.444276</td>\n",
       "      <td>500.0</td>\n",
       "    </tr>\n",
       "    <tr>\n",
       "      <th>2023-08-01</th>\n",
       "      <td>BANDHAN NIFTY200 MOMENTUM 30 INDEX FUND - GROW...</td>\n",
       "      <td>44.110382</td>\n",
       "      <td>500.0</td>\n",
       "    </tr>\n",
       "    <tr>\n",
       "      <th>2023-09-01</th>\n",
       "      <td>NIPPON INDIA NIFTY 50 VALUE 20 INDEX FUND - DI...</td>\n",
       "      <td>34.428623</td>\n",
       "      <td>500.0</td>\n",
       "    </tr>\n",
       "    <tr>\n",
       "      <th>2023-09-01</th>\n",
       "      <td>BANDHAN NIFTY200 MOMENTUM 30 INDEX FUND - GROW...</td>\n",
       "      <td>43.694072</td>\n",
       "      <td>500.0</td>\n",
       "    </tr>\n",
       "    <tr>\n",
       "      <th>2023-11-01</th>\n",
       "      <td>NIPPON INDIA NIFTY 50 VALUE 20 INDEX FUND - DI...</td>\n",
       "      <td>34.788901</td>\n",
       "      <td>500.0</td>\n",
       "    </tr>\n",
       "    <tr>\n",
       "      <th>2023-11-01</th>\n",
       "      <td>BANDHAN NIFTY200 MOMENTUM 30 INDEX FUND - GROW...</td>\n",
       "      <td>43.850033</td>\n",
       "      <td>500.0</td>\n",
       "    </tr>\n",
       "    <tr>\n",
       "      <th>2023-12-01</th>\n",
       "      <td>NIPPON INDIA NIFTY 50 VALUE 20 INDEX FUND - DI...</td>\n",
       "      <td>32.123354</td>\n",
       "      <td>500.0</td>\n",
       "    </tr>\n",
       "    <tr>\n",
       "      <th>2023-12-01</th>\n",
       "      <td>BANDHAN NIFTY200 MOMENTUM 30 INDEX FUND - GROW...</td>\n",
       "      <td>38.096109</td>\n",
       "      <td>500.0</td>\n",
       "    </tr>\n",
       "    <tr>\n",
       "      <th>2024-01-01</th>\n",
       "      <td>NIPPON INDIA NIFTY 50 VALUE 20 INDEX FUND - DI...</td>\n",
       "      <td>29.838098</td>\n",
       "      <td>500.0</td>\n",
       "    </tr>\n",
       "    <tr>\n",
       "      <th>2024-01-01</th>\n",
       "      <td>BANDHAN NIFTY200 MOMENTUM 30 INDEX FUND - GROW...</td>\n",
       "      <td>35.677589</td>\n",
       "      <td>500.0</td>\n",
       "    </tr>\n",
       "    <tr>\n",
       "      <th>2024-01-01</th>\n",
       "      <td>NIPPON INDIA NIFTY 50 VALUE 20 INDEX FUND - DI...</td>\n",
       "      <td>-0.000000</td>\n",
       "      <td>-0.0</td>\n",
       "    </tr>\n",
       "    <tr>\n",
       "      <th>2024-01-01</th>\n",
       "      <td>BANDHAN NIFTY200 MOMENTUM 30 INDEX FUND - GROW...</td>\n",
       "      <td>0.000000</td>\n",
       "      <td>0.0</td>\n",
       "    </tr>\n",
       "    <tr>\n",
       "      <th>2024-02-01</th>\n",
       "      <td>NIPPON INDIA NIFTY 50 VALUE 20 INDEX FUND - DI...</td>\n",
       "      <td>29.057097</td>\n",
       "      <td>500.0</td>\n",
       "    </tr>\n",
       "    <tr>\n",
       "      <th>2024-02-01</th>\n",
       "      <td>BANDHAN NIFTY200 MOMENTUM 30 INDEX FUND - GROW...</td>\n",
       "      <td>33.941336</td>\n",
       "      <td>500.0</td>\n",
       "    </tr>\n",
       "    <tr>\n",
       "      <th>2024-03-01</th>\n",
       "      <td>NIPPON INDIA NIFTY 50 VALUE 20 INDEX FUND - DI...</td>\n",
       "      <td>27.898516</td>\n",
       "      <td>500.0</td>\n",
       "    </tr>\n",
       "    <tr>\n",
       "      <th>2024-03-01</th>\n",
       "      <td>BANDHAN NIFTY200 MOMENTUM 30 INDEX FUND - GROW...</td>\n",
       "      <td>32.057652</td>\n",
       "      <td>500.0</td>\n",
       "    </tr>\n",
       "    <tr>\n",
       "      <th>2024-04-01</th>\n",
       "      <td>NIPPON INDIA NIFTY 50 VALUE 20 INDEX FUND - DI...</td>\n",
       "      <td>28.239334</td>\n",
       "      <td>500.0</td>\n",
       "    </tr>\n",
       "    <tr>\n",
       "      <th>2024-04-01</th>\n",
       "      <td>BANDHAN NIFTY200 MOMENTUM 30 INDEX FUND - GROW...</td>\n",
       "      <td>31.285979</td>\n",
       "      <td>500.0</td>\n",
       "    </tr>\n",
       "  </tbody>\n",
       "</table>\n",
       "</div>"
      ],
      "text/plain": [
       "                                                    fund_name       units  \\\n",
       "date                                                                        \n",
       "2023-01-02  NIPPON INDIA NIFTY 50 VALUE 20 INDEX FUND - DI...  384.689363   \n",
       "2023-01-02  BANDHAN NIFTY200 MOMENTUM 30 INDEX FUND - GROW...  499.880029   \n",
       "2023-02-01  NIPPON INDIA NIFTY 50 VALUE 20 INDEX FUND - DI...   37.433836   \n",
       "2023-02-01  BANDHAN NIFTY200 MOMENTUM 30 INDEX FUND - GROW...   54.069837   \n",
       "2023-03-01  NIPPON INDIA NIFTY 50 VALUE 20 INDEX FUND - DI...   37.837797   \n",
       "2023-03-01  BANDHAN NIFTY200 MOMENTUM 30 INDEX FUND - GROW...   53.428507   \n",
       "2023-06-01  NIPPON INDIA NIFTY 50 VALUE 20 INDEX FUND - DI...   36.556656   \n",
       "2023-06-01  BANDHAN NIFTY200 MOMENTUM 30 INDEX FUND - GROW...   47.757316   \n",
       "2023-08-01  NIPPON INDIA NIFTY 50 VALUE 20 INDEX FUND - DI...   34.444276   \n",
       "2023-08-01  BANDHAN NIFTY200 MOMENTUM 30 INDEX FUND - GROW...   44.110382   \n",
       "2023-09-01  NIPPON INDIA NIFTY 50 VALUE 20 INDEX FUND - DI...   34.428623   \n",
       "2023-09-01  BANDHAN NIFTY200 MOMENTUM 30 INDEX FUND - GROW...   43.694072   \n",
       "2023-11-01  NIPPON INDIA NIFTY 50 VALUE 20 INDEX FUND - DI...   34.788901   \n",
       "2023-11-01  BANDHAN NIFTY200 MOMENTUM 30 INDEX FUND - GROW...   43.850033   \n",
       "2023-12-01  NIPPON INDIA NIFTY 50 VALUE 20 INDEX FUND - DI...   32.123354   \n",
       "2023-12-01  BANDHAN NIFTY200 MOMENTUM 30 INDEX FUND - GROW...   38.096109   \n",
       "2024-01-01  NIPPON INDIA NIFTY 50 VALUE 20 INDEX FUND - DI...   29.838098   \n",
       "2024-01-01  BANDHAN NIFTY200 MOMENTUM 30 INDEX FUND - GROW...   35.677589   \n",
       "2024-01-01  NIPPON INDIA NIFTY 50 VALUE 20 INDEX FUND - DI...   -0.000000   \n",
       "2024-01-01  BANDHAN NIFTY200 MOMENTUM 30 INDEX FUND - GROW...    0.000000   \n",
       "2024-02-01  NIPPON INDIA NIFTY 50 VALUE 20 INDEX FUND - DI...   29.057097   \n",
       "2024-02-01  BANDHAN NIFTY200 MOMENTUM 30 INDEX FUND - GROW...   33.941336   \n",
       "2024-03-01  NIPPON INDIA NIFTY 50 VALUE 20 INDEX FUND - DI...   27.898516   \n",
       "2024-03-01  BANDHAN NIFTY200 MOMENTUM 30 INDEX FUND - GROW...   32.057652   \n",
       "2024-04-01  NIPPON INDIA NIFTY 50 VALUE 20 INDEX FUND - DI...   28.239334   \n",
       "2024-04-01  BANDHAN NIFTY200 MOMENTUM 30 INDEX FUND - GROW...   31.285979   \n",
       "\n",
       "            amount  \n",
       "date                \n",
       "2023-01-02  5000.0  \n",
       "2023-01-02  5000.0  \n",
       "2023-02-01   500.0  \n",
       "2023-02-01   500.0  \n",
       "2023-03-01   500.0  \n",
       "2023-03-01   500.0  \n",
       "2023-06-01   500.0  \n",
       "2023-06-01   500.0  \n",
       "2023-08-01   500.0  \n",
       "2023-08-01   500.0  \n",
       "2023-09-01   500.0  \n",
       "2023-09-01   500.0  \n",
       "2023-11-01   500.0  \n",
       "2023-11-01   500.0  \n",
       "2023-12-01   500.0  \n",
       "2023-12-01   500.0  \n",
       "2024-01-01   500.0  \n",
       "2024-01-01   500.0  \n",
       "2024-01-01    -0.0  \n",
       "2024-01-01     0.0  \n",
       "2024-02-01   500.0  \n",
       "2024-02-01   500.0  \n",
       "2024-03-01   500.0  \n",
       "2024-03-01   500.0  \n",
       "2024-04-01   500.0  \n",
       "2024-04-01   500.0  "
      ]
     },
     "execution_count": 10,
     "metadata": {},
     "output_type": "execute_result"
    }
   ],
   "source": [
    "df"
   ]
  },
  {
   "cell_type": "code",
   "execution_count": 12,
   "id": "0a93072c-f452-40ac-93e6-eeca447e79a3",
   "metadata": {},
   "outputs": [],
   "source": [
    "df.drop(columns=[\"amount\"], inplace=True)"
   ]
  },
  {
   "cell_type": "code",
   "execution_count": 14,
   "id": "53801b6c-339f-41ce-b2cf-1fcf38072fe2",
   "metadata": {},
   "outputs": [
    {
     "data": {
      "text/plain": [
       "DatetimeIndex(['2023-01-02', '2023-01-02', '2023-02-01', '2023-02-01',\n",
       "               '2023-03-01', '2023-03-01', '2023-06-01', '2023-06-01',\n",
       "               '2023-08-01', '2023-08-01', '2023-09-01', '2023-09-01',\n",
       "               '2023-11-01', '2023-11-01', '2023-12-01', '2023-12-01',\n",
       "               '2024-01-01', '2024-01-01', '2024-01-01', '2024-01-01',\n",
       "               '2024-02-01', '2024-02-01', '2024-03-01', '2024-03-01',\n",
       "               '2024-04-01', '2024-04-01'],\n",
       "              dtype='datetime64[ns]', name='date', freq=None)"
      ]
     },
     "execution_count": 14,
     "metadata": {},
     "output_type": "execute_result"
    }
   ],
   "source": [
    "df.index"
   ]
  },
  {
   "cell_type": "code",
   "execution_count": 19,
   "id": "b7ebd237-d978-43f6-8d50-2d30978f4a51",
   "metadata": {},
   "outputs": [
    {
     "data": {
      "text/plain": [
       "{'BANDHAN NIFTY200 MOMENTUM 30 INDEX FUND - GROWTH - DIRECT PLAN': 957.8488402070626,\n",
       " 'NIPPON INDIA NIFTY 50 VALUE 20 INDEX FUND - DIRECT Plan - IDCW Option': 747.335850762461}"
      ]
     },
     "execution_count": 19,
     "metadata": {},
     "output_type": "execute_result"
    }
   ],
   "source": [
    "df.groupby(\"fund_name\")[\"units\"].sum().to_dict()"
   ]
  },
  {
   "cell_type": "code",
   "execution_count": 16,
   "id": "a9b4b47e-3565-4b21-919b-a30aed6a76d9",
   "metadata": {},
   "outputs": [
    {
     "data": {
      "text/html": [
       "<div>\n",
       "<style scoped>\n",
       "    .dataframe tbody tr th:only-of-type {\n",
       "        vertical-align: middle;\n",
       "    }\n",
       "\n",
       "    .dataframe tbody tr th {\n",
       "        vertical-align: top;\n",
       "    }\n",
       "\n",
       "    .dataframe thead th {\n",
       "        text-align: right;\n",
       "    }\n",
       "</style>\n",
       "<table border=\"1\" class=\"dataframe\">\n",
       "  <thead>\n",
       "    <tr style=\"text-align: right;\">\n",
       "      <th></th>\n",
       "      <th>fund_name</th>\n",
       "      <th>units</th>\n",
       "    </tr>\n",
       "    <tr>\n",
       "      <th>date</th>\n",
       "      <th></th>\n",
       "      <th></th>\n",
       "    </tr>\n",
       "  </thead>\n",
       "  <tbody>\n",
       "    <tr>\n",
       "      <th>2023-01-02</th>\n",
       "      <td>NIPPON INDIA NIFTY 50 VALUE 20 INDEX FUND - DI...</td>\n",
       "      <td>384.689363</td>\n",
       "    </tr>\n",
       "    <tr>\n",
       "      <th>2023-01-02</th>\n",
       "      <td>BANDHAN NIFTY200 MOMENTUM 30 INDEX FUND - GROW...</td>\n",
       "      <td>499.880029</td>\n",
       "    </tr>\n",
       "    <tr>\n",
       "      <th>2023-02-01</th>\n",
       "      <td>NIPPON INDIA NIFTY 50 VALUE 20 INDEX FUND - DI...</td>\n",
       "      <td>37.433836</td>\n",
       "    </tr>\n",
       "    <tr>\n",
       "      <th>2023-02-01</th>\n",
       "      <td>BANDHAN NIFTY200 MOMENTUM 30 INDEX FUND - GROW...</td>\n",
       "      <td>54.069837</td>\n",
       "    </tr>\n",
       "    <tr>\n",
       "      <th>2023-03-01</th>\n",
       "      <td>NIPPON INDIA NIFTY 50 VALUE 20 INDEX FUND - DI...</td>\n",
       "      <td>37.837797</td>\n",
       "    </tr>\n",
       "    <tr>\n",
       "      <th>2023-03-01</th>\n",
       "      <td>BANDHAN NIFTY200 MOMENTUM 30 INDEX FUND - GROW...</td>\n",
       "      <td>53.428507</td>\n",
       "    </tr>\n",
       "    <tr>\n",
       "      <th>2023-06-01</th>\n",
       "      <td>NIPPON INDIA NIFTY 50 VALUE 20 INDEX FUND - DI...</td>\n",
       "      <td>36.556656</td>\n",
       "    </tr>\n",
       "    <tr>\n",
       "      <th>2023-06-01</th>\n",
       "      <td>BANDHAN NIFTY200 MOMENTUM 30 INDEX FUND - GROW...</td>\n",
       "      <td>47.757316</td>\n",
       "    </tr>\n",
       "    <tr>\n",
       "      <th>2023-08-01</th>\n",
       "      <td>NIPPON INDIA NIFTY 50 VALUE 20 INDEX FUND - DI...</td>\n",
       "      <td>34.444276</td>\n",
       "    </tr>\n",
       "    <tr>\n",
       "      <th>2023-08-01</th>\n",
       "      <td>BANDHAN NIFTY200 MOMENTUM 30 INDEX FUND - GROW...</td>\n",
       "      <td>44.110382</td>\n",
       "    </tr>\n",
       "    <tr>\n",
       "      <th>2023-09-01</th>\n",
       "      <td>NIPPON INDIA NIFTY 50 VALUE 20 INDEX FUND - DI...</td>\n",
       "      <td>34.428623</td>\n",
       "    </tr>\n",
       "    <tr>\n",
       "      <th>2023-09-01</th>\n",
       "      <td>BANDHAN NIFTY200 MOMENTUM 30 INDEX FUND - GROW...</td>\n",
       "      <td>43.694072</td>\n",
       "    </tr>\n",
       "    <tr>\n",
       "      <th>2023-11-01</th>\n",
       "      <td>NIPPON INDIA NIFTY 50 VALUE 20 INDEX FUND - DI...</td>\n",
       "      <td>34.788901</td>\n",
       "    </tr>\n",
       "    <tr>\n",
       "      <th>2023-11-01</th>\n",
       "      <td>BANDHAN NIFTY200 MOMENTUM 30 INDEX FUND - GROW...</td>\n",
       "      <td>43.850033</td>\n",
       "    </tr>\n",
       "    <tr>\n",
       "      <th>2023-12-01</th>\n",
       "      <td>NIPPON INDIA NIFTY 50 VALUE 20 INDEX FUND - DI...</td>\n",
       "      <td>32.123354</td>\n",
       "    </tr>\n",
       "    <tr>\n",
       "      <th>2023-12-01</th>\n",
       "      <td>BANDHAN NIFTY200 MOMENTUM 30 INDEX FUND - GROW...</td>\n",
       "      <td>38.096109</td>\n",
       "    </tr>\n",
       "    <tr>\n",
       "      <th>2024-01-01</th>\n",
       "      <td>NIPPON INDIA NIFTY 50 VALUE 20 INDEX FUND - DI...</td>\n",
       "      <td>29.838098</td>\n",
       "    </tr>\n",
       "    <tr>\n",
       "      <th>2024-01-01</th>\n",
       "      <td>BANDHAN NIFTY200 MOMENTUM 30 INDEX FUND - GROW...</td>\n",
       "      <td>35.677589</td>\n",
       "    </tr>\n",
       "    <tr>\n",
       "      <th>2024-01-01</th>\n",
       "      <td>NIPPON INDIA NIFTY 50 VALUE 20 INDEX FUND - DI...</td>\n",
       "      <td>-0.000000</td>\n",
       "    </tr>\n",
       "    <tr>\n",
       "      <th>2024-01-01</th>\n",
       "      <td>BANDHAN NIFTY200 MOMENTUM 30 INDEX FUND - GROW...</td>\n",
       "      <td>0.000000</td>\n",
       "    </tr>\n",
       "    <tr>\n",
       "      <th>2024-02-01</th>\n",
       "      <td>NIPPON INDIA NIFTY 50 VALUE 20 INDEX FUND - DI...</td>\n",
       "      <td>29.057097</td>\n",
       "    </tr>\n",
       "    <tr>\n",
       "      <th>2024-02-01</th>\n",
       "      <td>BANDHAN NIFTY200 MOMENTUM 30 INDEX FUND - GROW...</td>\n",
       "      <td>33.941336</td>\n",
       "    </tr>\n",
       "    <tr>\n",
       "      <th>2024-03-01</th>\n",
       "      <td>NIPPON INDIA NIFTY 50 VALUE 20 INDEX FUND - DI...</td>\n",
       "      <td>27.898516</td>\n",
       "    </tr>\n",
       "    <tr>\n",
       "      <th>2024-03-01</th>\n",
       "      <td>BANDHAN NIFTY200 MOMENTUM 30 INDEX FUND - GROW...</td>\n",
       "      <td>32.057652</td>\n",
       "    </tr>\n",
       "    <tr>\n",
       "      <th>2024-04-01</th>\n",
       "      <td>NIPPON INDIA NIFTY 50 VALUE 20 INDEX FUND - DI...</td>\n",
       "      <td>28.239334</td>\n",
       "    </tr>\n",
       "    <tr>\n",
       "      <th>2024-04-01</th>\n",
       "      <td>BANDHAN NIFTY200 MOMENTUM 30 INDEX FUND - GROW...</td>\n",
       "      <td>31.285979</td>\n",
       "    </tr>\n",
       "  </tbody>\n",
       "</table>\n",
       "</div>"
      ],
      "text/plain": [
       "                                                    fund_name       units\n",
       "date                                                                     \n",
       "2023-01-02  NIPPON INDIA NIFTY 50 VALUE 20 INDEX FUND - DI...  384.689363\n",
       "2023-01-02  BANDHAN NIFTY200 MOMENTUM 30 INDEX FUND - GROW...  499.880029\n",
       "2023-02-01  NIPPON INDIA NIFTY 50 VALUE 20 INDEX FUND - DI...   37.433836\n",
       "2023-02-01  BANDHAN NIFTY200 MOMENTUM 30 INDEX FUND - GROW...   54.069837\n",
       "2023-03-01  NIPPON INDIA NIFTY 50 VALUE 20 INDEX FUND - DI...   37.837797\n",
       "2023-03-01  BANDHAN NIFTY200 MOMENTUM 30 INDEX FUND - GROW...   53.428507\n",
       "2023-06-01  NIPPON INDIA NIFTY 50 VALUE 20 INDEX FUND - DI...   36.556656\n",
       "2023-06-01  BANDHAN NIFTY200 MOMENTUM 30 INDEX FUND - GROW...   47.757316\n",
       "2023-08-01  NIPPON INDIA NIFTY 50 VALUE 20 INDEX FUND - DI...   34.444276\n",
       "2023-08-01  BANDHAN NIFTY200 MOMENTUM 30 INDEX FUND - GROW...   44.110382\n",
       "2023-09-01  NIPPON INDIA NIFTY 50 VALUE 20 INDEX FUND - DI...   34.428623\n",
       "2023-09-01  BANDHAN NIFTY200 MOMENTUM 30 INDEX FUND - GROW...   43.694072\n",
       "2023-11-01  NIPPON INDIA NIFTY 50 VALUE 20 INDEX FUND - DI...   34.788901\n",
       "2023-11-01  BANDHAN NIFTY200 MOMENTUM 30 INDEX FUND - GROW...   43.850033\n",
       "2023-12-01  NIPPON INDIA NIFTY 50 VALUE 20 INDEX FUND - DI...   32.123354\n",
       "2023-12-01  BANDHAN NIFTY200 MOMENTUM 30 INDEX FUND - GROW...   38.096109\n",
       "2024-01-01  NIPPON INDIA NIFTY 50 VALUE 20 INDEX FUND - DI...   29.838098\n",
       "2024-01-01  BANDHAN NIFTY200 MOMENTUM 30 INDEX FUND - GROW...   35.677589\n",
       "2024-01-01  NIPPON INDIA NIFTY 50 VALUE 20 INDEX FUND - DI...   -0.000000\n",
       "2024-01-01  BANDHAN NIFTY200 MOMENTUM 30 INDEX FUND - GROW...    0.000000\n",
       "2024-02-01  NIPPON INDIA NIFTY 50 VALUE 20 INDEX FUND - DI...   29.057097\n",
       "2024-02-01  BANDHAN NIFTY200 MOMENTUM 30 INDEX FUND - GROW...   33.941336\n",
       "2024-03-01  NIPPON INDIA NIFTY 50 VALUE 20 INDEX FUND - DI...   27.898516\n",
       "2024-03-01  BANDHAN NIFTY200 MOMENTUM 30 INDEX FUND - GROW...   32.057652\n",
       "2024-04-01  NIPPON INDIA NIFTY 50 VALUE 20 INDEX FUND - DI...   28.239334\n",
       "2024-04-01  BANDHAN NIFTY200 MOMENTUM 30 INDEX FUND - GROW...   31.285979"
      ]
     },
     "execution_count": 16,
     "metadata": {},
     "output_type": "execute_result"
    }
   ],
   "source": [
    "df"
   ]
  },
  {
   "cell_type": "code",
   "execution_count": null,
   "id": "829350a3-958d-4b39-b765-bcf46c8ca55e",
   "metadata": {},
   "outputs": [],
   "source": [
    "sim.get_portfolio_history()"
   ]
  },
  {
   "cell_type": "code",
   "execution_count": null,
   "id": "53bf1c4b-f963-440c-853c-bdd5ffe54815",
   "metadata": {},
   "outputs": [],
   "source": [
    "from datetime import datetime"
   ]
  },
  {
   "cell_type": "code",
   "execution_count": null,
   "id": "18e81328-8f83-4284-b71f-5dea7a7485d5",
   "metadata": {},
   "outputs": [],
   "source": [
    "datetime.strptime(\"2023-12-26\", '%Y-%m-%d') in sim.nav_data[sim.fund_list[0]].index"
   ]
  },
  {
   "cell_type": "code",
   "execution_count": null,
   "id": "0fdacb14-fe9a-472a-b682-d3f8e60f1427",
   "metadata": {},
   "outputs": [],
   "source": []
  },
  {
   "cell_type": "code",
   "execution_count": 19,
   "id": "6aeddcc9-80c0-48b7-bf65-114d6af2d05c",
   "metadata": {
    "scrolled": true
   },
   "outputs": [
    {
     "data": {
      "text/plain": [
       "'20-09-2024'"
      ]
     },
     "execution_count": 19,
     "metadata": {},
     "output_type": "execute_result"
    }
   ],
   "source": [
    "sim.nav_data[sim.fund_list[0]].index[0]"
   ]
  },
  {
   "cell_type": "code",
   "execution_count": null,
   "id": "06ba2f40-85c2-47ff-841f-9c52986386db",
   "metadata": {},
   "outputs": [],
   "source": [
    "d.funds_list_df"
   ]
  },
  {
   "cell_type": "code",
   "execution_count": 5,
   "id": "a226d12c-619e-4740-a3a9-a29f2fcd9ddc",
   "metadata": {
    "scrolled": true
   },
   "outputs": [],
   "source": [
    "fn = d.funds_list_df.iloc[0][\"schemeName\"]"
   ]
  },
  {
   "cell_type": "code",
   "execution_count": 6,
   "id": "515d062a-6bca-4ec1-a8c6-a91333c125a7",
   "metadata": {},
   "outputs": [
    {
     "data": {
      "text/plain": [
       "'Grindlays Super Saver Income Fund-GSSIF-Half Yearly Dividend'"
      ]
     },
     "execution_count": 6,
     "metadata": {},
     "output_type": "execute_result"
    }
   ],
   "source": [
    "fn"
   ]
  },
  {
   "cell_type": "code",
   "execution_count": 7,
   "id": "dc02fc0e-a077-4fe2-8576-e823bb0f5762",
   "metadata": {
    "scrolled": true
   },
   "outputs": [],
   "source": [
    "ndf = d.load_nav_data(fn)"
   ]
  },
  {
   "cell_type": "code",
   "execution_count": 8,
   "id": "854ad396-30cd-4252-8478-bd5395cb0070",
   "metadata": {},
   "outputs": [
    {
     "data": {
      "text/html": [
       "<div>\n",
       "<style scoped>\n",
       "    .dataframe tbody tr th:only-of-type {\n",
       "        vertical-align: middle;\n",
       "    }\n",
       "\n",
       "    .dataframe tbody tr th {\n",
       "        vertical-align: top;\n",
       "    }\n",
       "\n",
       "    .dataframe thead th {\n",
       "        text-align: right;\n",
       "    }\n",
       "</style>\n",
       "<table border=\"1\" class=\"dataframe\">\n",
       "  <thead>\n",
       "    <tr style=\"text-align: right;\">\n",
       "      <th></th>\n",
       "      <th>date</th>\n",
       "      <th>nav</th>\n",
       "    </tr>\n",
       "  </thead>\n",
       "  <tbody>\n",
       "    <tr>\n",
       "      <th>0</th>\n",
       "      <td>29-05-2008</td>\n",
       "      <td>10.72050</td>\n",
       "    </tr>\n",
       "    <tr>\n",
       "      <th>1</th>\n",
       "      <td>28-05-2008</td>\n",
       "      <td>10.72500</td>\n",
       "    </tr>\n",
       "    <tr>\n",
       "      <th>2</th>\n",
       "      <td>27-05-2008</td>\n",
       "      <td>10.72160</td>\n",
       "    </tr>\n",
       "    <tr>\n",
       "      <th>3</th>\n",
       "      <td>26-05-2008</td>\n",
       "      <td>10.72060</td>\n",
       "    </tr>\n",
       "    <tr>\n",
       "      <th>4</th>\n",
       "      <td>23-05-2008</td>\n",
       "      <td>10.71520</td>\n",
       "    </tr>\n",
       "    <tr>\n",
       "      <th>...</th>\n",
       "      <td>...</td>\n",
       "      <td>...</td>\n",
       "    </tr>\n",
       "    <tr>\n",
       "      <th>526</th>\n",
       "      <td>10-04-2006</td>\n",
       "      <td>10.09060</td>\n",
       "    </tr>\n",
       "    <tr>\n",
       "      <th>527</th>\n",
       "      <td>07-04-2006</td>\n",
       "      <td>10.08560</td>\n",
       "    </tr>\n",
       "    <tr>\n",
       "      <th>528</th>\n",
       "      <td>05-04-2006</td>\n",
       "      <td>10.08360</td>\n",
       "    </tr>\n",
       "    <tr>\n",
       "      <th>529</th>\n",
       "      <td>04-04-2006</td>\n",
       "      <td>10.07960</td>\n",
       "    </tr>\n",
       "    <tr>\n",
       "      <th>530</th>\n",
       "      <td>03-04-2006</td>\n",
       "      <td>10.07740</td>\n",
       "    </tr>\n",
       "  </tbody>\n",
       "</table>\n",
       "<p>531 rows × 2 columns</p>\n",
       "</div>"
      ],
      "text/plain": [
       "           date       nav\n",
       "0    29-05-2008  10.72050\n",
       "1    28-05-2008  10.72500\n",
       "2    27-05-2008  10.72160\n",
       "3    26-05-2008  10.72060\n",
       "4    23-05-2008  10.71520\n",
       "..          ...       ...\n",
       "526  10-04-2006  10.09060\n",
       "527  07-04-2006  10.08560\n",
       "528  05-04-2006  10.08360\n",
       "529  04-04-2006  10.07960\n",
       "530  03-04-2006  10.07740\n",
       "\n",
       "[531 rows x 2 columns]"
      ]
     },
     "execution_count": 8,
     "metadata": {},
     "output_type": "execute_result"
    }
   ],
   "source": [
    "ndf"
   ]
  },
  {
   "cell_type": "code",
   "execution_count": 9,
   "id": "5f72d2ff-c895-4159-9dde-ae4600999ace",
   "metadata": {},
   "outputs": [],
   "source": [
    "import requests"
   ]
  },
  {
   "cell_type": "code",
   "execution_count": 12,
   "id": "4e2c6964-5be1-4574-af9d-912315d27f41",
   "metadata": {},
   "outputs": [],
   "source": [
    "import pandas as pd"
   ]
  },
  {
   "cell_type": "code",
   "execution_count": 13,
   "id": "3698b0dd-4c2b-4342-9417-c5b5b8fb2aef",
   "metadata": {},
   "outputs": [],
   "source": [
    "url = f\"http://api.mfapi.in/mf/100027\"\n",
    "response = requests.get(url)\n",
    "json_data = response.json()\n",
    "fund_df = pd.DataFrame.from_records(json_data[\"data\"])\n"
   ]
  },
  {
   "cell_type": "code",
   "execution_count": null,
   "id": "b4e4e1fc-3b36-4b02-93f9-ba4aa4240c8d",
   "metadata": {},
   "outputs": [],
   "source": [
    "fund_name = "
   ]
  },
  {
   "cell_type": "code",
   "execution_count": 17,
   "id": "953d6b47-64fa-40e7-aa5d-b11d436e8715",
   "metadata": {
    "scrolled": true
   },
   "outputs": [],
   "source": [
    "fund_row = d.funds_list_df.loc[\n",
    "    d.funds_list_df[\"schemeName\"] == fn\n",
    "]\n",
    "\n",
    "url = f\"http://api.mfapi.in/mf/{fund_row['schemeCode']}\"\n"
   ]
  },
  {
   "cell_type": "code",
   "execution_count": 18,
   "id": "4eba58e7-891e-4b6a-801a-41800b7218f8",
   "metadata": {},
   "outputs": [
    {
     "data": {
      "text/plain": [
       "'http://api.mfapi.in/mf/0    100027\\nName: schemeCode, dtype: int64'"
      ]
     },
     "execution_count": 18,
     "metadata": {},
     "output_type": "execute_result"
    }
   ],
   "source": [
    "url"
   ]
  },
  {
   "cell_type": "code",
   "execution_count": 21,
   "id": "9b0680c6-cc3e-4456-b454-84d11a2754a9",
   "metadata": {},
   "outputs": [
    {
     "data": {
      "text/plain": [
       "0    100027\n",
       "Name: schemeCode, dtype: int64"
      ]
     },
     "execution_count": 21,
     "metadata": {},
     "output_type": "execute_result"
    }
   ],
   "source": []
  },
  {
   "cell_type": "code",
   "execution_count": 14,
   "id": "27482d47-c880-4851-86cd-5188f207bcc5",
   "metadata": {
    "collapsed": true,
    "jupyter": {
     "outputs_hidden": true
    }
   },
   "outputs": [
    {
     "data": {
      "text/html": [
       "<div>\n",
       "<style scoped>\n",
       "    .dataframe tbody tr th:only-of-type {\n",
       "        vertical-align: middle;\n",
       "    }\n",
       "\n",
       "    .dataframe tbody tr th {\n",
       "        vertical-align: top;\n",
       "    }\n",
       "\n",
       "    .dataframe thead th {\n",
       "        text-align: right;\n",
       "    }\n",
       "</style>\n",
       "<table border=\"1\" class=\"dataframe\">\n",
       "  <thead>\n",
       "    <tr style=\"text-align: right;\">\n",
       "      <th></th>\n",
       "      <th>date</th>\n",
       "      <th>nav</th>\n",
       "    </tr>\n",
       "  </thead>\n",
       "  <tbody>\n",
       "    <tr>\n",
       "      <th>0</th>\n",
       "      <td>29-05-2008</td>\n",
       "      <td>10.72050</td>\n",
       "    </tr>\n",
       "    <tr>\n",
       "      <th>1</th>\n",
       "      <td>28-05-2008</td>\n",
       "      <td>10.72500</td>\n",
       "    </tr>\n",
       "    <tr>\n",
       "      <th>2</th>\n",
       "      <td>27-05-2008</td>\n",
       "      <td>10.72160</td>\n",
       "    </tr>\n",
       "    <tr>\n",
       "      <th>3</th>\n",
       "      <td>26-05-2008</td>\n",
       "      <td>10.72060</td>\n",
       "    </tr>\n",
       "    <tr>\n",
       "      <th>4</th>\n",
       "      <td>23-05-2008</td>\n",
       "      <td>10.71520</td>\n",
       "    </tr>\n",
       "    <tr>\n",
       "      <th>...</th>\n",
       "      <td>...</td>\n",
       "      <td>...</td>\n",
       "    </tr>\n",
       "    <tr>\n",
       "      <th>526</th>\n",
       "      <td>10-04-2006</td>\n",
       "      <td>10.09060</td>\n",
       "    </tr>\n",
       "    <tr>\n",
       "      <th>527</th>\n",
       "      <td>07-04-2006</td>\n",
       "      <td>10.08560</td>\n",
       "    </tr>\n",
       "    <tr>\n",
       "      <th>528</th>\n",
       "      <td>05-04-2006</td>\n",
       "      <td>10.08360</td>\n",
       "    </tr>\n",
       "    <tr>\n",
       "      <th>529</th>\n",
       "      <td>04-04-2006</td>\n",
       "      <td>10.07960</td>\n",
       "    </tr>\n",
       "    <tr>\n",
       "      <th>530</th>\n",
       "      <td>03-04-2006</td>\n",
       "      <td>10.07740</td>\n",
       "    </tr>\n",
       "  </tbody>\n",
       "</table>\n",
       "<p>531 rows × 2 columns</p>\n",
       "</div>"
      ],
      "text/plain": [
       "           date       nav\n",
       "0    29-05-2008  10.72050\n",
       "1    28-05-2008  10.72500\n",
       "2    27-05-2008  10.72160\n",
       "3    26-05-2008  10.72060\n",
       "4    23-05-2008  10.71520\n",
       "..          ...       ...\n",
       "526  10-04-2006  10.09060\n",
       "527  07-04-2006  10.08560\n",
       "528  05-04-2006  10.08360\n",
       "529  04-04-2006  10.07960\n",
       "530  03-04-2006  10.07740\n",
       "\n",
       "[531 rows x 2 columns]"
      ]
     },
     "execution_count": 14,
     "metadata": {},
     "output_type": "execute_result"
    }
   ],
   "source": [
    "fund_df"
   ]
  },
  {
   "cell_type": "code",
   "execution_count": null,
   "id": "46b7fa66-2dbf-4872-b891-a85b58877598",
   "metadata": {},
   "outputs": [],
   "source": []
  }
 ],
 "metadata": {
  "kernelspec": {
   "display_name": "Python 3 (ipykernel)",
   "language": "python",
   "name": "python3"
  },
  "language_info": {
   "codemirror_mode": {
    "name": "ipython",
    "version": 3
   },
   "file_extension": ".py",
   "mimetype": "text/x-python",
   "name": "python",
   "nbconvert_exporter": "python",
   "pygments_lexer": "ipython3",
   "version": "3.10.14"
  }
 },
 "nbformat": 4,
 "nbformat_minor": 5
}
